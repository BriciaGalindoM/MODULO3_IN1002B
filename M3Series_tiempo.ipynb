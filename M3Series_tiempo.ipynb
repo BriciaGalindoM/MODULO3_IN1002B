{
  "nbformat": 4,
  "nbformat_minor": 0,
  "metadata": {
    "colab": {
      "provenance": []
    },
    "kernelspec": {
      "name": "python3",
      "display_name": "Python 3"
    },
    "language_info": {
      "name": "python"
    }
  },
  "cells": [
    {
      "cell_type": "markdown",
      "source": [
        "# Módulo 3\n",
        "**Desarrollo de proyectos de análisis de datos  IN1002B**\n",
        "\n",
        "### Pronósticos: Series de tiempo\n",
        "\n",
        "**Base de datos:**\n",
        "\n",
        "This dataset offers a valuable resource for businesses operating in the retail furniture sector. By analyzing historical sales data from the superstore dataset, users can gain insights into future sales patterns and trends. This information can be utilized to optimize inventory management strategies, anticipate customer demand, and enhance overall operational efficiency. Whether for retail managers, analysts, or data scientists, this dataset provides a foundation for informed decision-making, helping businesses maintain stability and drive sustained growth in the dynamic retail environment.\n",
        "\n",
        "[Kaggle](https://www.kaggle.com/datasets/tanayatipre/store-sales-forecasting-dataset)\n",
        "\n"
      ],
      "metadata": {
        "id": "nTfLdgAgA7UH"
      }
    },
    {
      "cell_type": "code",
      "execution_count": 2,
      "metadata": {
        "colab": {
          "base_uri": "https://localhost:8080/"
        },
        "id": "m_on_95lAtNg",
        "outputId": "6109e155-32fd-413c-f033-090ba2526810"
      },
      "outputs": [
        {
          "output_type": "stream",
          "name": "stdout",
          "text": [
            "Drive already mounted at /content/drive; to attempt to forcibly remount, call drive.mount(\"/content/drive\", force_remount=True).\n"
          ]
        }
      ],
      "source": [
        "from google.colab import drive\n",
        "drive.mount('/content/drive')"
      ]
    },
    {
      "cell_type": "code",
      "source": [
        "import pandas as pd\n",
        "import numpy as np\n",
        "import matplotlib.pyplot as plt\n",
        "import seaborn as sns"
      ],
      "metadata": {
        "id": "sOYZhoo4BVUM"
      },
      "execution_count": 3,
      "outputs": []
    },
    {
      "cell_type": "code",
      "source": [
        "# read data\n",
        "data = pd.read_csv('', encoding='latin-1')"
      ],
      "metadata": {
        "id": "9OZ_TkJABQMC"
      },
      "execution_count": 4,
      "outputs": []
    },
    {
      "cell_type": "code",
      "source": [
        "#head()\n"
      ],
      "metadata": {
        "id": "31HhDbACBP9X"
      },
      "execution_count": null,
      "outputs": []
    },
    {
      "cell_type": "code",
      "source": [
        "#info()\n"
      ],
      "metadata": {
        "id": "2CMl2cQaCLKn"
      },
      "execution_count": null,
      "outputs": []
    },
    {
      "cell_type": "code",
      "source": [
        "# Formato de fecha\n",
        "\n",
        "# Columna 1\n",
        "data['Order Date'] = pd.to_datetime(data['Order Date'], format='mixed')\n",
        "\n",
        "# Columna 2\n"
      ],
      "metadata": {
        "id": "I9mHoa0HCLF-"
      },
      "execution_count": 7,
      "outputs": []
    },
    {
      "cell_type": "code",
      "source": [
        "#info()\n"
      ],
      "metadata": {
        "id": "mnU2I1x9CtO8"
      },
      "execution_count": null,
      "outputs": []
    },
    {
      "cell_type": "code",
      "source": [
        "## Años y meses\n",
        "\n",
        "#Años\n",
        "data['Year'] = data['Order Date'].dt.year\n",
        "\n",
        "#Meses\n"
      ],
      "metadata": {
        "id": "OLeRhiRSCyqy"
      },
      "execution_count": 9,
      "outputs": []
    },
    {
      "cell_type": "code",
      "source": [
        "# unique para ver que años tenemos\n"
      ],
      "metadata": {
        "id": "wULsu4ysCym_"
      },
      "execution_count": null,
      "outputs": []
    },
    {
      "cell_type": "markdown",
      "source": [
        "Como lo hemos visto en las sesiones de visualizacion anteriores, los gráficos de línea son ideales para observar cambios a traves del tiempo.\n",
        "\n",
        "EStos cambios pueden deberse a diversos factores, uno de los más conocidos es la estacionalidad.\n",
        "\n",
        "En el siguiente ejemplo vamos a graficar con la función ```sns.lineplot()```, agregaremos en ```hue= ''``` los años que comprende el estudio y por último cambiaremos las etiquetas de eje."
      ],
      "metadata": {
        "id": "U6wqDM-K740f"
      }
    },
    {
      "cell_type": "code",
      "source": [
        "# vamos a graficar cada año\n",
        "plt.figure(figsize=(10, 6))\n",
        "sns.lineplot(data=data, x='Month', y='Profit', hue='Year', marker='o', errorbar=None)\n",
        "\n",
        "# Configuración de etiquetas\n",
        "plt.xticks(ticks=range(1, 13), labels=['Enero', 'Febrero', 'Marzo', 'Abril', 'Mayo', 'Junio',\n",
        "                                          'Julio', 'Agosto', 'Septiembre', 'Octubre', 'Noviembre', 'Diciembre'])\n",
        "plt.title('Profit por Mes y Año')\n",
        "plt.xlabel('Mes')\n",
        "plt.ylabel('Profit')\n",
        "plt.legend(title='Año')\n",
        "plt.grid()"
      ],
      "metadata": {
        "id": "XvDbcdj9Cyec"
      },
      "execution_count": null,
      "outputs": []
    },
    {
      "cell_type": "markdown",
      "source": [
        "Como pudieron ver, diversas razones no nos permiten visualizar las diferencias entre cada año, algunos pueden ser:\n",
        "\n",
        "- La similitud de patrones\n",
        "- La paleta de colores\n",
        "- etc.\n",
        "\n",
        "\n",
        "Es por eso que utilizaremos la función ```FacetGrid()```, la cuál nos permite realizar un mosaico de gráficos, lo único que requerimos es:\n",
        "1. Base de datos\n",
        "2. Número de columnas\n",
        "3. Ramaño de las figuras\n",
        "\n",
        "\n",
        "La diferencia también radica en que trabajaremos por capas, para ello es necesario guardar nuestra imagen en una variable:"
      ],
      "metadata": {
        "id": "BWDSatCN8aQS"
      }
    },
    {
      "cell_type": "code",
      "source": [
        "# Crear un gráfico facetado\n",
        "g = sns.FacetGrid(data, col='Year', col_wrap=2, height=4, aspect=1.5)\n",
        "g.map(sns.lineplot, 'Month', 'Profit', marker='o', errorbar=None)\n",
        "\n",
        "# Configuración de etiquetas\n",
        "g.set(xticks=range(1, 13))\n",
        "g.set_xticklabels(['Ene', 'Feb', 'Mar', 'Abr', 'May', 'Jun',\n",
        "                   'Jul', 'Ago', 'Sept', 'Oct', 'Nov', 'Dic'])\n",
        "g.set_titles(col_template='{col_name}')\n",
        "g.set_axis_labels('Mes', 'Profit')\n",
        "g.add_legend()\n",
        "\n",
        "# Mostrar el gráfico\n",
        "plt.show()"
      ],
      "metadata": {
        "id": "eAQjm-5tGUF8"
      },
      "execution_count": null,
      "outputs": []
    },
    {
      "cell_type": "markdown",
      "source": [
        "## **Moving Average** (MA)\n",
        "\n",
        "Una media móvil es un cálculo utilizado para analizar un conjunto de datos en modo de puntos para crear series de promedios. Así las medias móviles son una lista de números en la cual cada uno es el promedio de un subconjunto de los datos originales\n",
        "\n",
        "El primer ejemplo muestra el cálculo de media movil de los 4 años que abarca el dataset.\n",
        "\n",
        "### Pronóstico: 2018"
      ],
      "metadata": {
        "id": "gldoDDabHoWv"
      }
    },
    {
      "cell_type": "code",
      "source": [
        "mean_profit = data.groupby('Year')['Profit'].mean().reset_index()\n",
        "print(mean_profit)"
      ],
      "metadata": {
        "id": "ikK4wilv_Hdo"
      },
      "execution_count": null,
      "outputs": []
    },
    {
      "cell_type": "code",
      "source": [
        "# Renombramos las columnas\n",
        "mean_profit.columns = ['Year', 'Average Profit']"
      ],
      "metadata": {
        "id": "ExdB02Ix_aDM"
      },
      "execution_count": 14,
      "outputs": []
    },
    {
      "cell_type": "code",
      "source": [
        "# Pronóstico para 2018 usando el promedio de los años anteriores\n",
        "average_forecast_2018 = mean_profit['Average Profit'].mean()\n",
        "print(average_forecast_2018)"
      ],
      "metadata": {
        "id": "yU-MPIGO_Z_E"
      },
      "execution_count": null,
      "outputs": []
    },
    {
      "cell_type": "code",
      "source": [
        "# Crear un nuevo DataFrame para el año x\n",
        "new_data = pd.DataFrame({'Year': ['2018'], 'Average Profit': [average_forecast_2018]})\n",
        "print(new_data)"
      ],
      "metadata": {
        "id": "zkTyvxbF_Z0p"
      },
      "execution_count": null,
      "outputs": []
    },
    {
      "cell_type": "code",
      "source": [
        "# Concatenar el DataFrame original con el nuevo año\n",
        "final_df = pd.concat([mean_profit, new_data], ignore_index=True)\n",
        "\n",
        "# Mostrar el resultado final\n",
        "print(final_df)"
      ],
      "metadata": {
        "id": "XqX5OXsqHEes"
      },
      "execution_count": null,
      "outputs": []
    },
    {
      "cell_type": "markdown",
      "source": [
        "**Segunda opción**\n",
        "\n",
        "Existe una función llamada ```rolling``` que funciona a traves de ventanas. Es decir, si la ventana es de 4 y tus datos son [1, 2, 3, 4, 5], las ventanas serán:\n",
        "\n",
        "    [1, 2, 3, 4]\n",
        "    [2, 3, 4, 5]\n",
        "\n",
        "Posteriormente, puedes hacer calculos, tales como media, mediana, moda, mínimo y máximo. Lo cual nos permite simplificar el primer código y replicar la lógica:"
      ],
      "metadata": {
        "id": "DQJlpeW8DMmN"
      }
    },
    {
      "cell_type": "code",
      "source": [
        "mean_profit = data.groupby('Year')['Profit'].mean().reset_index()\n",
        "\n",
        "mean_profit = mean_profit['Profit'].rolling(window=4).mean()\n",
        "\n",
        "mean_profit"
      ],
      "metadata": {
        "id": "ldKLsvIP94b4"
      },
      "execution_count": null,
      "outputs": []
    },
    {
      "cell_type": "markdown",
      "source": [
        "### Pronóstico: Enero 2018\n",
        "\n",
        "Para este ejemplo vamos a considerar solo los datos obtenidos durante los meses del año 2017:"
      ],
      "metadata": {
        "id": "FxJabqDPNrzn"
      }
    },
    {
      "cell_type": "code",
      "source": [
        "dic2017 = data[data['Year'] == 2017]"
      ],
      "metadata": {
        "id": "uZ4DZWzaNrLd"
      },
      "execution_count": 19,
      "outputs": []
    },
    {
      "cell_type": "markdown",
      "source": [
        "Y repetimos los pasos anteriores para obtener el pronostico para enero del 2018:"
      ],
      "metadata": {
        "id": "IXk-xn2XDJ2n"
      }
    },
    {
      "cell_type": "code",
      "source": [
        "mean_profit = dic2017.groupby('Month')['Profit'].mean().reset_index()\n",
        "\n",
        "mean_profit.columns = ['Month', 'Average Profit']\n",
        "\n",
        "# Pronóstico para Enero del 2019 utilizando meses anteriores\n",
        "average_forecast_ene = mean_profit['Average Profit'].mean()\n",
        "\n",
        "# Crear un nuevo DataFrame para incluir enero del 2018\n",
        "new_data = pd.DataFrame({'Month': ['Ene-18'], 'Average Profit': [average_forecast_ene]})\n",
        "\n",
        "# Concatenar el DataFrame original con el nuevo año\n",
        "final_df = pd.concat([mean_profit, new_data], ignore_index=True)\n",
        "\n",
        "# Mostrar el resultado final\n",
        "print(final_df)"
      ],
      "metadata": {
        "id": "v71oNHc4N3si"
      },
      "execution_count": null,
      "outputs": []
    },
    {
      "cell_type": "markdown",
      "source": [
        "También hacemos el ejemplo con el método de ```rolling``` para validar los resultados:"
      ],
      "metadata": {
        "id": "PpQW27sbEDqd"
      }
    },
    {
      "cell_type": "code",
      "source": [
        "mean_profit = dic2017.groupby('Month')['Profit'].mean().reset_index()\n",
        "\n",
        "mean_profit = mean_profit['Profit'].rolling(window=12).mean()\n",
        "\n",
        "mean_profit"
      ],
      "metadata": {
        "id": "vNip7bNj-bWL"
      },
      "execution_count": null,
      "outputs": []
    },
    {
      "cell_type": "markdown",
      "source": [
        "## **Promedio Movil Ponderado**\n",
        "\n",
        "En el promedio móvil ponderado podemos asignar cualquier importancia (peso) a cualquier dato del promedio (siempre que la sumatoria de las ponderaciones sean equivalentes al 100%). Es una práctica regular aplicar el factor de ponderación (porcentaje) mayor al dato más reciente. [Referencia](https://ingenieriaindustrialonline.com/pronostico-de-la-demanda/promedio-movil-ponderado/)\n",
        "\n"
      ],
      "metadata": {
        "id": "yBl0XI4WQZTT"
      }
    },
    {
      "cell_type": "code",
      "source": [
        "mean_profit = data.groupby('Year')['Profit'].mean().reset_index()\n",
        "mean_profit.columns = ['Year', 'Average Profit']\n",
        "\n",
        "# Definir los pesos para los años (más reciente tiene mayor peso)\n",
        "pesos = [0.1, 0.2, 0.3, 0.4]  # Pesos para 2014, 2015, 2016 y 2017\n",
        "\n",
        "# Calcular el promedio móvil ponderado para los años relevantes\n",
        "if len(mean_profit) >= 3:\n",
        "    weighted_average = (mean_profit['Average Profit'].iloc[-1] * pesos[0] +\n",
        "                        mean_profit['Average Profit'].iloc[-2] * pesos[1] +\n",
        "                        mean_profit['Average Profit'].iloc[-2] * pesos[2] +\n",
        "                        mean_profit['Average Profit'].iloc[-3] * pesos[3])\n",
        "else:\n",
        "    weighted_average = mean_profit['Average Profit'].mean()  # Si hay menos de 3 años\n",
        "\n",
        "# Crear un nuevo DataFrame para el año 2018\n",
        "new_data = pd.DataFrame({'Year': [2018], 'Average Profit': [weighted_average]})\n",
        "\n",
        "# Concatenar el DataFrame original con el nuevo año\n",
        "final_df = pd.concat([mean_profit, new_data], ignore_index=True)\n",
        "\n",
        "# Mostrar el resultado final\n",
        "print(final_df)"
      ],
      "metadata": {
        "id": "KS9zPB_YQjS_"
      },
      "execution_count": null,
      "outputs": []
    },
    {
      "cell_type": "markdown",
      "source": [
        "Revisar"
      ],
      "metadata": {
        "id": "o2gJb6N_RxGY"
      }
    },
    {
      "cell_type": "code",
      "source": [
        "mean_profit = dic2017.groupby('Month')['Profit'].mean().reset_index()\n",
        "mean_profit.columns = ['Month', 'Average Profit']\n",
        "\n",
        "# Definir los pesos para los últimos meses\n",
        "pesos = [0.05, 0.05, 0.05, 0.05, 0.1, 0.1, 0.1, 0.1,  0.1, 0.1, 0.3, 0.4]  # Pesos para los últimos 4 meses\n",
        "\n",
        "# Filtrar los últimos meses\n",
        "if len(mean_profit) >= len(pesos):\n",
        "    last_months = mean_profit['Average Profit'].iloc[-len(pesos):]\n",
        "    weighted_average = sum(last_months.iloc[i] * pesos[i] for i in range(len(pesos)))\n",
        "else:\n",
        "    weighted_average = mean_profit['Average Profit'].mean()  # Si hay menos meses\n",
        "\n",
        "# Crear un nuevo DataFrame para el pronóstico del próximo año (2018)\n",
        "new_data = pd.DataFrame({'Month': ['Next Year'], 'Average Profit': [weighted_average]})\n",
        "\n",
        "# Concatenar el DataFrame original con el nuevo año\n",
        "final_df = pd.concat([mean_profit, new_data], ignore_index=True)\n",
        "\n",
        "# Mostrar el resultado final\n",
        "print(final_df)"
      ],
      "metadata": {
        "id": "YVL6JQy4QkIY"
      },
      "execution_count": null,
      "outputs": []
    },
    {
      "cell_type": "markdown",
      "source": [
        "### **¿Cuándo utilizar un pronóstico de promedio móvil ponderado?**\n",
        "\n",
        "El pronóstico de promedio móvil ponderado es óptimo para patrones de demanda aleatorios o nivelados donde se pretende eliminar el impacto de los elementos irregulares históricos mediante un enfoque en períodos de demanda reciente, dicho enfoque es superior al del promedio móvil simple."
      ],
      "metadata": {
        "id": "nQPLuyVAeTiE"
      }
    },
    {
      "cell_type": "code",
      "source": [
        "import numpy as np\n",
        "\n",
        "def generar_vector(n):\n",
        "    # Generar n-1 elementos aleatorios pequeños entre 0 y 0.1\n",
        "    vector = np.random.rand(n - 1) * 0.1\n",
        "\n",
        "    # Agregar el último elemento como un valor mayor\n",
        "    vector = np.append(vector, 0.9)\n",
        "\n",
        "    # Normalizar para que la suma sea 1\n",
        "    vector /= vector.sum()\n",
        "\n",
        "    return vector\n",
        "\n",
        "# Tamaño del vector\n",
        "n = 12\n",
        "resultado = generar_vector(n)\n",
        "print(resultado)\n",
        "print(\"Suma:\", resultado.sum())\n"
      ],
      "metadata": {
        "id": "73hSPnQPemL9"
      },
      "execution_count": null,
      "outputs": []
    }
  ]
}