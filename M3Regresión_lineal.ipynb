{
  "nbformat": 4,
  "nbformat_minor": 0,
  "metadata": {
    "colab": {
      "provenance": [],
      "collapsed_sections": [
        "unWxeRnNYB8w",
        "u2j1gzR-eowi"
      ]
    },
    "kernelspec": {
      "name": "python3",
      "display_name": "Python 3"
    },
    "language_info": {
      "name": "python"
    }
  },
  "cells": [
    {
      "cell_type": "markdown",
      "source": [
        "# Módulo 3\n",
        "**Desarrollo de proyectos de análisis de datos  IN1002B**\n",
        "\n",
        "### Regresión lineal\n",
        "\n",
        "Describir base de datos:"
      ],
      "metadata": {
        "id": "Q47C787tSfIX"
      }
    },
    {
      "cell_type": "code",
      "execution_count": 2,
      "metadata": {
        "colab": {
          "base_uri": "https://localhost:8080/"
        },
        "id": "Q623sIWgSSgv",
        "outputId": "8a749268-16f7-4436-b6a4-bc11428d15fc"
      },
      "outputs": [
        {
          "output_type": "stream",
          "name": "stdout",
          "text": [
            "Drive already mounted at /content/drive; to attempt to forcibly remount, call drive.mount(\"/content/drive\", force_remount=True).\n"
          ]
        }
      ],
      "source": [
        "from google.colab import drive\n",
        "drive.mount('/content/drive')"
      ]
    },
    {
      "cell_type": "code",
      "source": [
        "import pandas as pd\n",
        "import numpy as np\n",
        "import matplotlib.pyplot as plt\n",
        "import seaborn as sns\n",
        "from sklearn.model_selection import train_test_split\n",
        "from sklearn.linear_model import LinearRegression\n",
        "from sklearn.metrics import mean_squared_error, r2_score"
      ],
      "metadata": {
        "id": "evsjodWxSjYu"
      },
      "execution_count": 3,
      "outputs": []
    },
    {
      "cell_type": "code",
      "source": [
        "# cargar datos\n"
      ],
      "metadata": {
        "id": "uNv3GzRXS0Ox"
      },
      "execution_count": 4,
      "outputs": []
    },
    {
      "cell_type": "code",
      "source": [
        "# head()\n"
      ],
      "metadata": {
        "colab": {
          "base_uri": "https://localhost:8080/",
          "height": 571
        },
        "id": "q3Ey1wQ3S06P",
        "outputId": "9f8e9cbc-f385-4a1c-c6ba-c5b47a95f594",
        "collapsed": true
      },
      "execution_count": 5,
      "outputs": [
        {
          "output_type": "execute_result",
          "data": {
            "text/plain": [
              "    Year  P_Football_Performance    SMAn2  N_Applications\n",
              "0   2006                   0.273   5778.0            5778\n",
              "1   2007                   0.273   5778.0            5140\n",
              "2   2008                   0.250   5459.0            6141\n",
              "3   2009                   0.615   5640.5            7429\n",
              "4   2010                   0.333   6785.0            7839\n",
              "5   2011                   0.417   7634.0            9300\n",
              "6   2012                   0.692   8569.5            9864\n",
              "7   2013                   0.538   9582.0           10449\n",
              "8   2014                   0.615  10156.5           11117\n",
              "9   2015                   0.538  10783.0           10766\n",
              "10  2016                   0.769  10941.5           12701\n",
              "11  2017                   0.692  11733.5           13930\n",
              "12  2018                   0.462  13315.5           13817\n",
              "13  2019                   0.692  13873.5           17363\n",
              "14  2020                   0.615  15590.0           18269\n",
              "15  2021                   0.462  17816.0           16127"
            ],
            "text/html": [
              "\n",
              "  <div id=\"df-ebf1bf6e-5849-4a44-acf7-60b360dba69f\" class=\"colab-df-container\">\n",
              "    <div>\n",
              "<style scoped>\n",
              "    .dataframe tbody tr th:only-of-type {\n",
              "        vertical-align: middle;\n",
              "    }\n",
              "\n",
              "    .dataframe tbody tr th {\n",
              "        vertical-align: top;\n",
              "    }\n",
              "\n",
              "    .dataframe thead th {\n",
              "        text-align: right;\n",
              "    }\n",
              "</style>\n",
              "<table border=\"1\" class=\"dataframe\">\n",
              "  <thead>\n",
              "    <tr style=\"text-align: right;\">\n",
              "      <th></th>\n",
              "      <th>Year</th>\n",
              "      <th>P_Football_Performance</th>\n",
              "      <th>SMAn2</th>\n",
              "      <th>N_Applications</th>\n",
              "    </tr>\n",
              "  </thead>\n",
              "  <tbody>\n",
              "    <tr>\n",
              "      <th>0</th>\n",
              "      <td>2006</td>\n",
              "      <td>0.273</td>\n",
              "      <td>5778.0</td>\n",
              "      <td>5778</td>\n",
              "    </tr>\n",
              "    <tr>\n",
              "      <th>1</th>\n",
              "      <td>2007</td>\n",
              "      <td>0.273</td>\n",
              "      <td>5778.0</td>\n",
              "      <td>5140</td>\n",
              "    </tr>\n",
              "    <tr>\n",
              "      <th>2</th>\n",
              "      <td>2008</td>\n",
              "      <td>0.250</td>\n",
              "      <td>5459.0</td>\n",
              "      <td>6141</td>\n",
              "    </tr>\n",
              "    <tr>\n",
              "      <th>3</th>\n",
              "      <td>2009</td>\n",
              "      <td>0.615</td>\n",
              "      <td>5640.5</td>\n",
              "      <td>7429</td>\n",
              "    </tr>\n",
              "    <tr>\n",
              "      <th>4</th>\n",
              "      <td>2010</td>\n",
              "      <td>0.333</td>\n",
              "      <td>6785.0</td>\n",
              "      <td>7839</td>\n",
              "    </tr>\n",
              "    <tr>\n",
              "      <th>5</th>\n",
              "      <td>2011</td>\n",
              "      <td>0.417</td>\n",
              "      <td>7634.0</td>\n",
              "      <td>9300</td>\n",
              "    </tr>\n",
              "    <tr>\n",
              "      <th>6</th>\n",
              "      <td>2012</td>\n",
              "      <td>0.692</td>\n",
              "      <td>8569.5</td>\n",
              "      <td>9864</td>\n",
              "    </tr>\n",
              "    <tr>\n",
              "      <th>7</th>\n",
              "      <td>2013</td>\n",
              "      <td>0.538</td>\n",
              "      <td>9582.0</td>\n",
              "      <td>10449</td>\n",
              "    </tr>\n",
              "    <tr>\n",
              "      <th>8</th>\n",
              "      <td>2014</td>\n",
              "      <td>0.615</td>\n",
              "      <td>10156.5</td>\n",
              "      <td>11117</td>\n",
              "    </tr>\n",
              "    <tr>\n",
              "      <th>9</th>\n",
              "      <td>2015</td>\n",
              "      <td>0.538</td>\n",
              "      <td>10783.0</td>\n",
              "      <td>10766</td>\n",
              "    </tr>\n",
              "    <tr>\n",
              "      <th>10</th>\n",
              "      <td>2016</td>\n",
              "      <td>0.769</td>\n",
              "      <td>10941.5</td>\n",
              "      <td>12701</td>\n",
              "    </tr>\n",
              "    <tr>\n",
              "      <th>11</th>\n",
              "      <td>2017</td>\n",
              "      <td>0.692</td>\n",
              "      <td>11733.5</td>\n",
              "      <td>13930</td>\n",
              "    </tr>\n",
              "    <tr>\n",
              "      <th>12</th>\n",
              "      <td>2018</td>\n",
              "      <td>0.462</td>\n",
              "      <td>13315.5</td>\n",
              "      <td>13817</td>\n",
              "    </tr>\n",
              "    <tr>\n",
              "      <th>13</th>\n",
              "      <td>2019</td>\n",
              "      <td>0.692</td>\n",
              "      <td>13873.5</td>\n",
              "      <td>17363</td>\n",
              "    </tr>\n",
              "    <tr>\n",
              "      <th>14</th>\n",
              "      <td>2020</td>\n",
              "      <td>0.615</td>\n",
              "      <td>15590.0</td>\n",
              "      <td>18269</td>\n",
              "    </tr>\n",
              "    <tr>\n",
              "      <th>15</th>\n",
              "      <td>2021</td>\n",
              "      <td>0.462</td>\n",
              "      <td>17816.0</td>\n",
              "      <td>16127</td>\n",
              "    </tr>\n",
              "  </tbody>\n",
              "</table>\n",
              "</div>\n",
              "    <div class=\"colab-df-buttons\">\n",
              "\n",
              "  <div class=\"colab-df-container\">\n",
              "    <button class=\"colab-df-convert\" onclick=\"convertToInteractive('df-ebf1bf6e-5849-4a44-acf7-60b360dba69f')\"\n",
              "            title=\"Convert this dataframe to an interactive table.\"\n",
              "            style=\"display:none;\">\n",
              "\n",
              "  <svg xmlns=\"http://www.w3.org/2000/svg\" height=\"24px\" viewBox=\"0 -960 960 960\">\n",
              "    <path d=\"M120-120v-720h720v720H120Zm60-500h600v-160H180v160Zm220 220h160v-160H400v160Zm0 220h160v-160H400v160ZM180-400h160v-160H180v160Zm440 0h160v-160H620v160ZM180-180h160v-160H180v160Zm440 0h160v-160H620v160Z\"/>\n",
              "  </svg>\n",
              "    </button>\n",
              "\n",
              "  <style>\n",
              "    .colab-df-container {\n",
              "      display:flex;\n",
              "      gap: 12px;\n",
              "    }\n",
              "\n",
              "    .colab-df-convert {\n",
              "      background-color: #E8F0FE;\n",
              "      border: none;\n",
              "      border-radius: 50%;\n",
              "      cursor: pointer;\n",
              "      display: none;\n",
              "      fill: #1967D2;\n",
              "      height: 32px;\n",
              "      padding: 0 0 0 0;\n",
              "      width: 32px;\n",
              "    }\n",
              "\n",
              "    .colab-df-convert:hover {\n",
              "      background-color: #E2EBFA;\n",
              "      box-shadow: 0px 1px 2px rgba(60, 64, 67, 0.3), 0px 1px 3px 1px rgba(60, 64, 67, 0.15);\n",
              "      fill: #174EA6;\n",
              "    }\n",
              "\n",
              "    .colab-df-buttons div {\n",
              "      margin-bottom: 4px;\n",
              "    }\n",
              "\n",
              "    [theme=dark] .colab-df-convert {\n",
              "      background-color: #3B4455;\n",
              "      fill: #D2E3FC;\n",
              "    }\n",
              "\n",
              "    [theme=dark] .colab-df-convert:hover {\n",
              "      background-color: #434B5C;\n",
              "      box-shadow: 0px 1px 3px 1px rgba(0, 0, 0, 0.15);\n",
              "      filter: drop-shadow(0px 1px 2px rgba(0, 0, 0, 0.3));\n",
              "      fill: #FFFFFF;\n",
              "    }\n",
              "  </style>\n",
              "\n",
              "    <script>\n",
              "      const buttonEl =\n",
              "        document.querySelector('#df-ebf1bf6e-5849-4a44-acf7-60b360dba69f button.colab-df-convert');\n",
              "      buttonEl.style.display =\n",
              "        google.colab.kernel.accessAllowed ? 'block' : 'none';\n",
              "\n",
              "      async function convertToInteractive(key) {\n",
              "        const element = document.querySelector('#df-ebf1bf6e-5849-4a44-acf7-60b360dba69f');\n",
              "        const dataTable =\n",
              "          await google.colab.kernel.invokeFunction('convertToInteractive',\n",
              "                                                    [key], {});\n",
              "        if (!dataTable) return;\n",
              "\n",
              "        const docLinkHtml = 'Like what you see? Visit the ' +\n",
              "          '<a target=\"_blank\" href=https://colab.research.google.com/notebooks/data_table.ipynb>data table notebook</a>'\n",
              "          + ' to learn more about interactive tables.';\n",
              "        element.innerHTML = '';\n",
              "        dataTable['output_type'] = 'display_data';\n",
              "        await google.colab.output.renderOutput(dataTable, element);\n",
              "        const docLink = document.createElement('div');\n",
              "        docLink.innerHTML = docLinkHtml;\n",
              "        element.appendChild(docLink);\n",
              "      }\n",
              "    </script>\n",
              "  </div>\n",
              "\n",
              "\n",
              "<div id=\"df-8a0c9753-185f-43f9-9b23-4602b9ca8cb2\">\n",
              "  <button class=\"colab-df-quickchart\" onclick=\"quickchart('df-8a0c9753-185f-43f9-9b23-4602b9ca8cb2')\"\n",
              "            title=\"Suggest charts\"\n",
              "            style=\"display:none;\">\n",
              "\n",
              "<svg xmlns=\"http://www.w3.org/2000/svg\" height=\"24px\"viewBox=\"0 0 24 24\"\n",
              "     width=\"24px\">\n",
              "    <g>\n",
              "        <path d=\"M19 3H5c-1.1 0-2 .9-2 2v14c0 1.1.9 2 2 2h14c1.1 0 2-.9 2-2V5c0-1.1-.9-2-2-2zM9 17H7v-7h2v7zm4 0h-2V7h2v10zm4 0h-2v-4h2v4z\"/>\n",
              "    </g>\n",
              "</svg>\n",
              "  </button>\n",
              "\n",
              "<style>\n",
              "  .colab-df-quickchart {\n",
              "      --bg-color: #E8F0FE;\n",
              "      --fill-color: #1967D2;\n",
              "      --hover-bg-color: #E2EBFA;\n",
              "      --hover-fill-color: #174EA6;\n",
              "      --disabled-fill-color: #AAA;\n",
              "      --disabled-bg-color: #DDD;\n",
              "  }\n",
              "\n",
              "  [theme=dark] .colab-df-quickchart {\n",
              "      --bg-color: #3B4455;\n",
              "      --fill-color: #D2E3FC;\n",
              "      --hover-bg-color: #434B5C;\n",
              "      --hover-fill-color: #FFFFFF;\n",
              "      --disabled-bg-color: #3B4455;\n",
              "      --disabled-fill-color: #666;\n",
              "  }\n",
              "\n",
              "  .colab-df-quickchart {\n",
              "    background-color: var(--bg-color);\n",
              "    border: none;\n",
              "    border-radius: 50%;\n",
              "    cursor: pointer;\n",
              "    display: none;\n",
              "    fill: var(--fill-color);\n",
              "    height: 32px;\n",
              "    padding: 0;\n",
              "    width: 32px;\n",
              "  }\n",
              "\n",
              "  .colab-df-quickchart:hover {\n",
              "    background-color: var(--hover-bg-color);\n",
              "    box-shadow: 0 1px 2px rgba(60, 64, 67, 0.3), 0 1px 3px 1px rgba(60, 64, 67, 0.15);\n",
              "    fill: var(--button-hover-fill-color);\n",
              "  }\n",
              "\n",
              "  .colab-df-quickchart-complete:disabled,\n",
              "  .colab-df-quickchart-complete:disabled:hover {\n",
              "    background-color: var(--disabled-bg-color);\n",
              "    fill: var(--disabled-fill-color);\n",
              "    box-shadow: none;\n",
              "  }\n",
              "\n",
              "  .colab-df-spinner {\n",
              "    border: 2px solid var(--fill-color);\n",
              "    border-color: transparent;\n",
              "    border-bottom-color: var(--fill-color);\n",
              "    animation:\n",
              "      spin 1s steps(1) infinite;\n",
              "  }\n",
              "\n",
              "  @keyframes spin {\n",
              "    0% {\n",
              "      border-color: transparent;\n",
              "      border-bottom-color: var(--fill-color);\n",
              "      border-left-color: var(--fill-color);\n",
              "    }\n",
              "    20% {\n",
              "      border-color: transparent;\n",
              "      border-left-color: var(--fill-color);\n",
              "      border-top-color: var(--fill-color);\n",
              "    }\n",
              "    30% {\n",
              "      border-color: transparent;\n",
              "      border-left-color: var(--fill-color);\n",
              "      border-top-color: var(--fill-color);\n",
              "      border-right-color: var(--fill-color);\n",
              "    }\n",
              "    40% {\n",
              "      border-color: transparent;\n",
              "      border-right-color: var(--fill-color);\n",
              "      border-top-color: var(--fill-color);\n",
              "    }\n",
              "    60% {\n",
              "      border-color: transparent;\n",
              "      border-right-color: var(--fill-color);\n",
              "    }\n",
              "    80% {\n",
              "      border-color: transparent;\n",
              "      border-right-color: var(--fill-color);\n",
              "      border-bottom-color: var(--fill-color);\n",
              "    }\n",
              "    90% {\n",
              "      border-color: transparent;\n",
              "      border-bottom-color: var(--fill-color);\n",
              "    }\n",
              "  }\n",
              "</style>\n",
              "\n",
              "  <script>\n",
              "    async function quickchart(key) {\n",
              "      const quickchartButtonEl =\n",
              "        document.querySelector('#' + key + ' button');\n",
              "      quickchartButtonEl.disabled = true;  // To prevent multiple clicks.\n",
              "      quickchartButtonEl.classList.add('colab-df-spinner');\n",
              "      try {\n",
              "        const charts = await google.colab.kernel.invokeFunction(\n",
              "            'suggestCharts', [key], {});\n",
              "      } catch (error) {\n",
              "        console.error('Error during call to suggestCharts:', error);\n",
              "      }\n",
              "      quickchartButtonEl.classList.remove('colab-df-spinner');\n",
              "      quickchartButtonEl.classList.add('colab-df-quickchart-complete');\n",
              "    }\n",
              "    (() => {\n",
              "      let quickchartButtonEl =\n",
              "        document.querySelector('#df-8a0c9753-185f-43f9-9b23-4602b9ca8cb2 button');\n",
              "      quickchartButtonEl.style.display =\n",
              "        google.colab.kernel.accessAllowed ? 'block' : 'none';\n",
              "    })();\n",
              "  </script>\n",
              "</div>\n",
              "\n",
              "  <div id=\"id_bc606326-8bc2-48b3-a2fd-05bdf21de39c\">\n",
              "    <style>\n",
              "      .colab-df-generate {\n",
              "        background-color: #E8F0FE;\n",
              "        border: none;\n",
              "        border-radius: 50%;\n",
              "        cursor: pointer;\n",
              "        display: none;\n",
              "        fill: #1967D2;\n",
              "        height: 32px;\n",
              "        padding: 0 0 0 0;\n",
              "        width: 32px;\n",
              "      }\n",
              "\n",
              "      .colab-df-generate:hover {\n",
              "        background-color: #E2EBFA;\n",
              "        box-shadow: 0px 1px 2px rgba(60, 64, 67, 0.3), 0px 1px 3px 1px rgba(60, 64, 67, 0.15);\n",
              "        fill: #174EA6;\n",
              "      }\n",
              "\n",
              "      [theme=dark] .colab-df-generate {\n",
              "        background-color: #3B4455;\n",
              "        fill: #D2E3FC;\n",
              "      }\n",
              "\n",
              "      [theme=dark] .colab-df-generate:hover {\n",
              "        background-color: #434B5C;\n",
              "        box-shadow: 0px 1px 3px 1px rgba(0, 0, 0, 0.15);\n",
              "        filter: drop-shadow(0px 1px 2px rgba(0, 0, 0, 0.3));\n",
              "        fill: #FFFFFF;\n",
              "      }\n",
              "    </style>\n",
              "    <button class=\"colab-df-generate\" onclick=\"generateWithVariable('data')\"\n",
              "            title=\"Generate code using this dataframe.\"\n",
              "            style=\"display:none;\">\n",
              "\n",
              "  <svg xmlns=\"http://www.w3.org/2000/svg\" height=\"24px\"viewBox=\"0 0 24 24\"\n",
              "       width=\"24px\">\n",
              "    <path d=\"M7,19H8.4L18.45,9,17,7.55,7,17.6ZM5,21V16.75L18.45,3.32a2,2,0,0,1,2.83,0l1.4,1.43a1.91,1.91,0,0,1,.58,1.4,1.91,1.91,0,0,1-.58,1.4L9.25,21ZM18.45,9,17,7.55Zm-12,3A5.31,5.31,0,0,0,4.9,8.1,5.31,5.31,0,0,0,1,6.5,5.31,5.31,0,0,0,4.9,4.9,5.31,5.31,0,0,0,6.5,1,5.31,5.31,0,0,0,8.1,4.9,5.31,5.31,0,0,0,12,6.5,5.46,5.46,0,0,0,6.5,12Z\"/>\n",
              "  </svg>\n",
              "    </button>\n",
              "    <script>\n",
              "      (() => {\n",
              "      const buttonEl =\n",
              "        document.querySelector('#id_bc606326-8bc2-48b3-a2fd-05bdf21de39c button.colab-df-generate');\n",
              "      buttonEl.style.display =\n",
              "        google.colab.kernel.accessAllowed ? 'block' : 'none';\n",
              "\n",
              "      buttonEl.onclick = () => {\n",
              "        google.colab.notebook.generateWithVariable('data');\n",
              "      }\n",
              "      })();\n",
              "    </script>\n",
              "  </div>\n",
              "\n",
              "    </div>\n",
              "  </div>\n"
            ],
            "application/vnd.google.colaboratory.intrinsic+json": {
              "type": "dataframe",
              "variable_name": "data",
              "summary": "{\n  \"name\": \"data\",\n  \"rows\": 16,\n  \"fields\": [\n    {\n      \"column\": \"Year\",\n      \"properties\": {\n        \"dtype\": \"number\",\n        \"std\": 4,\n        \"min\": 2006,\n        \"max\": 2021,\n        \"num_unique_values\": 16,\n        \"samples\": [\n          2006,\n          2007,\n          2011\n        ],\n        \"semantic_type\": \"\",\n        \"description\": \"\"\n      }\n    },\n    {\n      \"column\": \"P_Football_Performance\",\n      \"properties\": {\n        \"dtype\": \"number\",\n        \"std\": 0.16837636413701298,\n        \"min\": 0.25,\n        \"max\": 0.769,\n        \"num_unique_values\": 9,\n        \"samples\": [\n          0.769,\n          0.25,\n          0.692\n        ],\n        \"semantic_type\": \"\",\n        \"description\": \"\"\n      }\n    },\n    {\n      \"column\": \"SMAn2\",\n      \"properties\": {\n        \"dtype\": \"number\",\n        \"std\": 3797.150971314985,\n        \"min\": 5459.0,\n        \"max\": 17816.0,\n        \"num_unique_values\": 15,\n        \"samples\": [\n          10941.5,\n          13315.5,\n          5778.0\n        ],\n        \"semantic_type\": \"\",\n        \"description\": \"\"\n      }\n    },\n    {\n      \"column\": \"N_Applications\",\n      \"properties\": {\n        \"dtype\": \"number\",\n        \"std\": 4095,\n        \"min\": 5140,\n        \"max\": 18269,\n        \"num_unique_values\": 16,\n        \"samples\": [\n          5778,\n          5140,\n          9300\n        ],\n        \"semantic_type\": \"\",\n        \"description\": \"\"\n      }\n    }\n  ]\n}"
            }
          },
          "metadata": {},
          "execution_count": 5
        }
      ]
    },
    {
      "cell_type": "markdown",
      "source": [
        "Lo que deseamos saber es cuantas aplicaciones tendrá la universidad el siguiente periodo.\n",
        "\n",
        "Una forma de explorar datos tipo cuantitativos de forma rápida y visual es con la función de ```pairplot()```. Lo que crea es un cuadrante donde los gráficos de las diagonales representan un tipo de gráfico y el resto muestra relaciones entre X y Y variables. [Referencia](https://seaborn.pydata.org/generated/seaborn.pairplot.html)\n",
        "\n",
        "Pueden jugar con los tipos de gráficos que desean mostrar con los parámetros de ```kind``` y ```diag_kind```."
      ],
      "metadata": {
        "id": "e_qffvB2WsKz"
      }
    },
    {
      "cell_type": "code",
      "source": [
        "sns.pairplot()"
      ],
      "metadata": {
        "colab": {
          "base_uri": "https://localhost:8080/",
          "height": 1000
        },
        "id": "WVwHTKTxWbP-",
        "outputId": "17dcc72d-1759-424d-ccf7-6234db204445",
        "collapsed": true
      },
      "execution_count": 6,
      "outputs": [
        {
          "output_type": "execute_result",
          "data": {
            "text/plain": [
              "<seaborn.axisgrid.PairGrid at 0x793b471df3a0>"
            ]
          },
          "metadata": {},
          "execution_count": 6
        },
        {
          "output_type": "display_data",
          "data": {
            "text/plain": [
              "<Figure size 1000x1000 with 20 Axes>"
            ],
            "image/png": "[encoded data removed]"
          },
          "metadata": {}
        }
      ]
    },
    {
      "cell_type": "markdown",
      "source": [
        "Con lo que nos proporciona el gráfico anterior:\n",
        "\n",
        "-  **¿Pueden ver alguna variable que tenga una fuerte correlación con otra?**\n",
        "\n",
        "- **¿Que es correlación?**\n",
        "\n",
        "\n",
        "Si lo anterior no es suficiente, podemos apoyarnos de un mapa de correlación. Lo podemos conseguir uniendo las funciones ```corr()``` y ```heatmap()```:"
      ],
      "metadata": {
        "id": "y7dRXz6VjBbX"
      }
    },
    {
      "cell_type": "code",
      "source": [
        "correlation_matrix = data.corr()\n",
        "\n",
        "# Crear un mapa de calor\n",
        "plt.figure(figsize=(8, 6))\n",
        "sns.heatmap(correlation_matrix, annot=True,  linewidths=0.5)\n",
        "\n",
        "# Ajustar el título\n",
        "plt.title('Matriz de Correlación')\n",
        "plt.show()"
      ],
      "metadata": {
        "id": "zxQd6Q9FS0w8"
      },
      "execution_count": null,
      "outputs": []
    },
    {
      "cell_type": "markdown",
      "source": [
        "**¿Cuál es la variable que tiene una mayor correlación (positiva o negativa) con el número de aplicaciones**\n",
        "\n",
        "\n",
        "Esa variable será nuestra variable X dentro de la ecuación de regresión lineal:\n",
        "\n",
        "## **Regresión lineal:**\n",
        "\n",
        "El análisis de regresión es una técnica estadística que permite comprobar la hipótesis de que una variable depende de otra u otras variables.\n",
        "\n",
        "\n",
        "$y = \\beta_0 + \\beta_1 x + \\beta_2 x +  \\beta_n x +\\epsilon$\n",
        "\n",
        "<\n",
        "β0 y β1 son los parámetros del modelo. ε es una variable aleatoria, llamada error,\n",
        "que explica la variabilidad en y que no se puede explicar con la relación lineal\n",
        "entre x y y.\n",
        "\n",
        "Cuando nuestra ecuación luce así:\n",
        "\n",
        "$y = \\beta_0 + \\beta_1 x +\\epsilon$\n",
        "\n",
        "Estamos hablando de que nuestro modelo es una regresión lineal **simple**\n",
        "\n",
        "### Modelo 1"
      ],
      "metadata": {
        "id": "W2F8b8uEjoh8"
      }
    },
    {
      "cell_type": "code",
      "source": [
        "# definir X y Y con la variable que seleccionaron\n",
        "X = data['SMAn2'].values.reshape(-1, 1)\n",
        "y = data['N_Applications'].values.reshape(-1, 1)"
      ],
      "metadata": {
        "id": "Va6u_rtoXcz-"
      },
      "execution_count": 16,
      "outputs": []
    },
    {
      "cell_type": "code",
      "source": [
        "X_train, X_test, y_train, y_test = train_test_split(X, y, test_size = 0.2,random_state = 42 )"
      ],
      "metadata": {
        "id": "mK-7i5sDXcuj"
      },
      "execution_count": 17,
      "outputs": []
    },
    {
      "cell_type": "code",
      "source": [
        "# Splitting the data into training and testing data\n",
        "regr = LinearRegression()\n",
        "\n",
        "regr.fit(X_train, y_train)\n",
        "print(regr.score(X_test, y_test))"
      ],
      "metadata": {
        "id": "oDWvEaTZXcpc"
      },
      "execution_count": null,
      "outputs": []
    },
    {
      "cell_type": "code",
      "source": [
        "# Hacer predicciones\n",
        "y_pred = regr.predict(X_test)\n",
        "\n",
        "# Graficar los datos y la recta de regresión\n",
        "plt.scatter(X_test, y_test, color='blue', label='Datos de prueba')\n",
        "plt.scatter(X_test, y_pred, color='red', label='Predicciones', alpha=0.5)\n",
        "\n",
        "# Graficar la línea de regresión\n",
        "X_line = np.linspace(X.min(), X.max(), 100).reshape(-1, 1)\n",
        "y_line = regr.predict(X_line)\n",
        "plt.plot(X_line, y_line, color='green', label='Recta de regresión')\n",
        "\n",
        "plt.xlabel('P_Football_Performance')\n",
        "plt.ylabel('N_Applications')\n",
        "plt.title('Regresión Lineal')\n",
        "plt.legend()\n",
        "plt.show()"
      ],
      "metadata": {
        "id": "OTXzJVoyoHOc"
      },
      "execution_count": null,
      "outputs": []
    },
    {
      "cell_type": "markdown",
      "source": [
        "### Modelo 2\n",
        "\n",
        "Solo para comparar, en X coloca la variable que tenía menor correlación:\n"
      ],
      "metadata": {
        "id": "unWxeRnNYB8w"
      }
    },
    {
      "cell_type": "code",
      "source": [
        "# definir X y Y\n",
        "X = data['P_Football_Performance'].values.reshape(-1, 1)\n",
        "y = data['N_Applications'].values.reshape(-1, 1)\n",
        "\n",
        "X_train, X_test, y_train, y_test = train_test_split(X, y, test_size = 0.2,random_state = 42 )\n",
        "\n",
        "regr = LinearRegression()\n",
        "\n",
        "regr.fit(X_train, y_train)\n",
        "print(regr.score(X_test, y_test))"
      ],
      "metadata": {
        "id": "huYTD_ZdYHsR"
      },
      "execution_count": null,
      "outputs": []
    },
    {
      "cell_type": "code",
      "source": [
        "# Hacer predicciones\n",
        "y_pred = regr.predict(X_test)\n",
        "\n",
        "# Graficar los datos y la recta de regresión\n",
        "plt.scatter(X_test, y_test, color='blue', label='Datos de prueba')\n",
        "plt.scatter(X_test, y_pred, color='red', label='Predicciones', alpha=0.5)\n",
        "\n",
        "# Graficar la línea de regresión\n",
        "X_line = np.linspace(X.min(), X.max(), 100).reshape(-1, 1)\n",
        "y_line = regr.predict(X_line)\n",
        "plt.plot(X_line, y_line, color='green', label='Recta de regresión')\n",
        "\n",
        "plt.xlabel('P_Football_Performance')\n",
        "plt.ylabel('N_Applications')\n",
        "plt.title('Regresión Lineal')\n",
        "plt.legend()\n",
        "plt.show()"
      ],
      "metadata": {
        "id": "Tex2j-Hmnu9H"
      },
      "execution_count": null,
      "outputs": []
    },
    {
      "cell_type": "markdown",
      "source": [
        "### Modelo 3\n",
        "\n",
        "Ahora coloca todas las variables en X"
      ],
      "metadata": {
        "id": "u2j1gzR-eowi"
      }
    },
    {
      "cell_type": "code",
      "source": [
        "# definir X y Y\n",
        "\n",
        "X = data.drop(columns = 'N_Applications')\n",
        "y = data['N_Applications'].values.reshape(-1, 1)\n",
        "\n",
        "X_train, X_test, y_train, y_test = train_test_split(X, y, test_size = 0.2,random_state = 42 )\n",
        "\n",
        "regr = LinearRegression()\n",
        "\n",
        "regr.fit(X_train, y_train)\n",
        "print(regr.score(X_test, y_test))"
      ],
      "metadata": {
        "id": "lIECX-u9eo_F"
      },
      "execution_count": null,
      "outputs": []
    }
  ]
}